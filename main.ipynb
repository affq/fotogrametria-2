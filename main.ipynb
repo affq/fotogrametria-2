{
 "cells": [
  {
   "cell_type": "code",
   "execution_count": null,
   "id": "858752a9",
   "metadata": {},
   "outputs": [],
   "source": [
    "import open3d as o3d\n",
    "import numpy as np\n",
    "import laspy\n",
    "import copy\n",
    "\n",
    "def las_to_o3d(plik) :\n",
    "    las_pcd = laspy.read(plik)\n",
    "    x = las_pcd.x\n",
    "    y = las_pcd.y\n",
    "    z = las_pcd.z\n",
    "\n",
    "    r = las_pcd.red / max(las_pcd.red)\n",
    "    g = las_pcd.green / max(las_pcd.green)\n",
    "    b = las_pcd.blue / max(las_pcd.blue)\n",
    "\n",
    "    las_points = np.vstack((x,y,z)).transpose()\n",
    "    las_colors = np.vstack((r,g,b)).transpose()\n",
    "\n",
    "    point_cloud = o3d.geometry.PointCloud()\n",
    "    point_cloud.points = o3d.utility.Vector3dVector(las_points)\n",
    "    point_cloud.colors = o3d.utility.Vector3dVector(las_colors)\n",
    "    return point_cloud\n",
    "\n",
    "def find_outliers(point_cloud, neighbours = 30, std_ratio = 2.0):\n",
    "    filtered_point_cloud, ind = point_cloud.remove_statistical_outlier(nb_neighbors = neighbours, std_ratio = std_ratio)\n",
    "    outliers = point_cloud.select_by_index(ind, invert = True)\n",
    "    outliers.paint_uniform_color([1, 0, 0])\n",
    "    return filtered_point_cloud, outliers\n",
    "\n",
    "def visualize_point_clouds(reference_cloud, oriented_cloud, transformation):\n",
    "    ori_temp = copy.deepcopy(oriented_cloud)\n",
    "    ref_temp = copy.deepcopy(reference_cloud)\n",
    "    ori_temp.paint_uniform_color([1, 0, 0])\n",
    "    ref_temp.paint_uniform_color([0, 1, 0])\n",
    "    ori_temp.transform(transformation)\n",
    "    o3d.visualization.draw_geometries([ori_temp, ref_temp])\n",
    "\n",
    "def measure_points(point_cloud):\n",
    "    print(\"Pomiar punktów na chmurze punktów\")\n",
    "    print(\"Etapy pomiaru punktów: \")\n",
    "    print(\" (1.1) Pomiar punktu - shift + lewy przycisk myszy\")\n",
    "    print(\" (1.2) Cofniecie ostatniego pomiaru - shift + prawy przycisk myszy\")\n",
    "    print(\" (2) Koniec pomiaru - wciśnięcie klawisza Q\")\n",
    "    vis = o3d.visualization.VisualizerWithEditing()\n",
    "    vis.create_window(window_name='Pomiar punktów')\n",
    "    vis.add_geometry(point_cloud)\n",
    "    vis.run() # user picks points\n",
    "    vis.destroy_window()\n",
    "    print(\"Koniec pomiaru\")\n",
    "    print(vis.get_picked_points())\n",
    "    return vis.get_picked_points()\n",
    "\n",
    "def target_based_orientation(reference_cloud, oriented_cloud, typ = 'Pomiar', Debug = 'False'):\n",
    "    if typ == 'Pomiar':\n",
    "        print('Pomierz min. 3 punkty na chmurze referencyjnej.')\n",
    "        pkt_ref = measure_points(reference_cloud)\n",
    "        print('Pomierz min. 3 punkty orientowanej.')\n",
    "        pkt_ori = measure_points(reference_cloud)\n",
    "    elif typ == 'Plik':\n",
    "        print('Wyznaczenia parametrów transformacji na podstawie punktów pozyskanych z plików tekstowych')\n",
    "    else: #Inna metoda\n",
    "        print('Wyznaczenie parametrów na podstawie analizy deskryptorów')\n",
    "\n",
    "    assert (len(pkt_ref) >= 3 and len(pkt_ori) >= 3)\n",
    "    assert (len(pkt_ref) == len(pkt_ori))\n",
    "\n",
    "    corr = np.zeros((len(pkt_ori), 2))\n",
    "    corr[:, 0] = pkt_ori\n",
    "    corr[:, 1] = pkt_ref\n",
    "    print(corr)\n",
    "\n",
    "    p2p = o3d.pipelines.registration.TransformationEstimationPointToPoint()\n",
    "    trans = p2p.compute_transformation(reference_cloud, oriented_cloud, o3d.utility.Vector2iVector(corr))\n",
    "    visualize_point_clouds(reference_cloud, oriented_cloud, trans)\n",
    "\n",
    "    if Debug == 'True':\n",
    "        print(trans)\n",
    "        visualize_point_clouds(reference_cloud, oriented_cloud, trans)\n",
    "\n",
    "def icp_orientation(source, target, threshold = 1.0, trans_init = np.identity(4), metoda = 'p2p'):\n",
    "    print('Analiza dokładności wstępnej orientacji')\n",
    "    evaluation = o3d.pipelines.registration.evaluate_registration(source, target, threshold, trans_init)\n",
    "    print(evaluation)\n",
    "    if metoda == 'p2p':\n",
    "        print(\"Orientacja ICP <Punkt do punktu>\")\n",
    "        reg_p2p = o3d.pipelines.registration.registration_icp(source, target, threshold, trans_init, o3d.pipelines.registration.TransformationEstimationPointToPoint())\n",
    "        print(reg_p2p)\n",
    "        print(\"Macierz transformacji:\")\n",
    "        print(reg_p2p.transformation)\n",
    "        visualize_point_clouds(source, target, reg_p2p.transformation)\n",
    "        information_reg_p2p = o3d.pipelines.registration.get_information_matrix_from_point_clouds(source, target, threshold, reg_p2p.transformation)\n",
    "        return reg_p2p.transformation, information_reg_p2p\n",
    "    elif metoda == 'p2pl':\n",
    "        print('Wyznaczanie normalnych')\n",
    "        source.normals = o3d.utility.Vector3dVector(np.zeros((1, 3))) # Jeżeli istnieją normalne to są zerowane\n",
    "        source.estimate_normals()\n",
    "        target.normals = o3d.utility.Vector3dVector(np.zeros((1, 3))) # Jeżeli istnieją normalne to są zerowane\n",
    "        target.estimate_normals()\n",
    "        print(\"Orientacja ICP <Punkt do płaszczyzny>\")\n",
    "        reg_p2pl = o3d.pipelines.registration.registration_icp(source, target, threshold, trans_init, o3d.pipelines.registration.TransformationEstimationPointToPlane())\n",
    "        print(reg_p2pl)\n",
    "        print(\"Macierz transformacji:\")\n",
    "        print(reg_p2pl.transformation)\n",
    "        visualize_point_clouds(source, target, reg_p2pl.transformation)\n",
    "        information_reg_p2pl = o3d.pipelines.registration.get_information_matrix_from_point_clouds(source, target, threshold, reg_p2pl.transformation)\n",
    "        return reg_p2pl.transformation,information_reg_p2pl\n",
    "    elif metoda == 'cicp':\n",
    "        reg_cicp = o3d.pipelines.registration.registration_colored_icp(source, target, threshold, trans_init)\n",
    "        print(reg_cicp)\n",
    "        print(\"Macierz transformacji:\")\n",
    "        print(reg_cicp.transformation)\n",
    "        visualize_point_clouds(source, target, reg_cicp.transformation)\n",
    "        information_reg_cicp = o3d.pipelines.registration.get_information_matrix_from_point_clouds(source, target, threshold, reg_cicp.transformation)\n",
    "        return reg_cicp.transformation, information_reg_cicp\n",
    "    else:\n",
    "        print('Nie wybrano odpowiedniego sposobu transformacji')\n",
    "\n",
    "reference = f'clouds\\orig.laz'\n",
    "results_reference = f'results\\\\reference'\n",
    "reference_filtered = f'{results_reference}\\\\reference_filtered.pcd'\n",
    "reference_voxel = f'{results_reference}\\\\reference_voxel.pcd'\n",
    "reference_uniform = f'{results_reference}\\\\reference_uniform.pcd'\n",
    "\n",
    "merged = f'clouds\\merged.las'\n",
    "results_merged = f'results\\merged'\n",
    "merged_filtered = f'{results_merged}\\\\merged_filtered.pcd'\n",
    "merged_voxel = f'{results_merged}\\\\merged_voxel.pcd'\n",
    "merged_uniform = f'{results_merged}\\\\merged_uniform.pcd'"
   ]
  },
  {
   "cell_type": "markdown",
   "id": "bf1e4e37",
   "metadata": {},
   "source": [
    "## merged"
   ]
  },
  {
   "cell_type": "code",
   "execution_count": 9,
   "id": "0ec9318b",
   "metadata": {},
   "outputs": [],
   "source": [
    "point_cloud = las_to_o3d(merged)\n",
    "# o3d.visualization.draw_geometries([point_cloud], window_name = \"Point cloud\")"
   ]
  },
  {
   "cell_type": "markdown",
   "id": "d4affc98",
   "metadata": {},
   "source": [
    "### filtracja"
   ]
  },
  {
   "cell_type": "code",
   "execution_count": null,
   "id": "3cc6e5ac",
   "metadata": {},
   "outputs": [
    {
     "data": {
      "text/plain": [
       "True"
      ]
     },
     "execution_count": 5,
     "metadata": {},
     "output_type": "execute_result"
    }
   ],
   "source": [
    "filtered_point_cloud, outliers = find_outliers(point_cloud)\n",
    "# o3d.visualization.draw_geometries([filtered_point_cloud, outliers], window_name = \"Point cloud with outliers\")\n",
    "both = filtered_point_cloud + outliers\n",
    "o3d.io.write_point_cloud(merged_filtered, both)"
   ]
  },
  {
   "cell_type": "markdown",
   "id": "9cdf0295",
   "metadata": {},
   "source": [
    "### voxel_down_sample"
   ]
  },
  {
   "cell_type": "code",
   "execution_count": null,
   "id": "9d7611ad",
   "metadata": {},
   "outputs": [
    {
     "data": {
      "text/plain": [
       "True"
      ]
     },
     "execution_count": 6,
     "metadata": {},
     "output_type": "execute_result"
    }
   ],
   "source": [
    "voxel_point_cloud = filtered_point_cloud.voxel_down_sample(voxel_size = 0.1)\n",
    "# o3d.visualization.draw_geometries([voxel_point_cloud], window_name = \"Voxelled point cloud\")\n",
    "o3d.io.write_point_cloud(merged_voxel, voxel_point_cloud)"
   ]
  },
  {
   "cell_type": "markdown",
   "id": "8ce75993",
   "metadata": {},
   "source": [
    "### uniform_down_sample"
   ]
  },
  {
   "cell_type": "code",
   "execution_count": null,
   "id": "15edaf62",
   "metadata": {},
   "outputs": [
    {
     "data": {
      "text/plain": [
       "True"
      ]
     },
     "execution_count": 7,
     "metadata": {},
     "output_type": "execute_result"
    }
   ],
   "source": [
    "n_point_cloud = point_cloud.uniform_down_sample(every_k_points = 10)\n",
    "# o3d.visualization.draw_geometries([n_point_cloud], window_name = \"Point cloud with every n point\")\n",
    "o3d.io.write_point_cloud(merged_uniform, n_point_cloud)"
   ]
  },
  {
   "cell_type": "markdown",
   "id": "6f31af8a",
   "metadata": {},
   "source": [
    "## reference"
   ]
  },
  {
   "cell_type": "code",
   "execution_count": 2,
   "id": "97961502",
   "metadata": {},
   "outputs": [],
   "source": [
    "point_cloud = las_to_o3d(reference)\n",
    "# o3d.visualization.draw_geometries([point_cloud], window_name = \"Point cloud\")"
   ]
  },
  {
   "cell_type": "markdown",
   "id": "74fdc3f0",
   "metadata": {},
   "source": [
    "### filtracja"
   ]
  },
  {
   "cell_type": "code",
   "execution_count": 3,
   "id": "46a04aa9",
   "metadata": {},
   "outputs": [
    {
     "data": {
      "text/plain": [
       "True"
      ]
     },
     "execution_count": 3,
     "metadata": {},
     "output_type": "execute_result"
    }
   ],
   "source": [
    "filtered_point_cloud, outliers = find_outliers(point_cloud)\n",
    "# o3d.visualization.draw_geometries([filtered_point_cloud, outliers], window_name = \"Point cloud with outliers\")\n",
    "both = filtered_point_cloud + outliers\n",
    "o3d.io.write_point_cloud(reference_filtered, both)"
   ]
  },
  {
   "cell_type": "markdown",
   "id": "3ca14afa",
   "metadata": {},
   "source": [
    "### voxel_down_sample"
   ]
  },
  {
   "cell_type": "code",
   "execution_count": 4,
   "id": "af40fb32",
   "metadata": {},
   "outputs": [
    {
     "data": {
      "text/plain": [
       "True"
      ]
     },
     "execution_count": 4,
     "metadata": {},
     "output_type": "execute_result"
    }
   ],
   "source": [
    "voxel_point_cloud = filtered_point_cloud.voxel_down_sample(voxel_size = 0.1)\n",
    "# o3d.visualization.draw_geometries([voxel_point_cloud], window_name = \"Voxelled point cloud\")\n",
    "o3d.io.write_point_cloud(reference_voxel, voxel_point_cloud)"
   ]
  },
  {
   "cell_type": "markdown",
   "id": "3957cba4",
   "metadata": {},
   "source": [
    "### uniform_down_sample"
   ]
  },
  {
   "cell_type": "code",
   "execution_count": 5,
   "id": "d695674c",
   "metadata": {},
   "outputs": [
    {
     "data": {
      "text/plain": [
       "True"
      ]
     },
     "execution_count": 5,
     "metadata": {},
     "output_type": "execute_result"
    }
   ],
   "source": [
    "n_point_cloud = point_cloud.uniform_down_sample(every_k_points = 10)\n",
    "# o3d.visualization.draw_geometries([n_point_cloud], window_name = \"Point cloud with every n point\")\n",
    "o3d.io.write_point_cloud(reference_uniform, n_point_cloud)"
   ]
  },
  {
   "cell_type": "markdown",
   "id": "0e776b9c",
   "metadata": {},
   "source": [
    "## orientacja"
   ]
  },
  {
   "cell_type": "code",
   "execution_count": 15,
   "id": "a5175aa7",
   "metadata": {},
   "outputs": [
    {
     "name": "stdout",
     "output_type": "stream",
     "text": [
      "Pomierz min. 3 punkty na chmurze referencyjnej.\n",
      "Pomiar punktów na chmurze punktów\n",
      "Etapy pomiaru punktów: \n",
      " (1.1) Pomiar punktu - shift + lewy przycisk myszy\n",
      " (1.2) Cofniecie ostatniego pomiaru - shift + prawy przycisk myszy\n",
      " (2) Koniec pomiaru - wciśnięcie klawisza Q\n",
      "[Open3D INFO] Picked point #110669 (6.4e+05, 4.7e+05, 1.5e+02) to add in queue.\n",
      "[Open3D INFO] Picked point #92582 (6.4e+05, 4.7e+05, 1.4e+02) to add in queue.\n",
      "[Open3D INFO] Picked point #26885 (6.4e+05, 4.7e+05, 1.5e+02) to add in queue.\n",
      "Koniec pomiaru\n",
      "[110669, 92582, 26885]\n",
      "Pomierz min. 3 punkty orientowanej.\n",
      "Pomiar punktów na chmurze punktów\n",
      "Etapy pomiaru punktów: \n",
      " (1.1) Pomiar punktu - shift + lewy przycisk myszy\n",
      " (1.2) Cofniecie ostatniego pomiaru - shift + prawy przycisk myszy\n",
      " (2) Koniec pomiaru - wciśnięcie klawisza Q\n",
      "Koniec pomiaru\n",
      "[]\n"
     ]
    },
    {
     "ename": "AssertionError",
     "evalue": "",
     "output_type": "error",
     "traceback": [
      "\u001b[1;31m---------------------------------------------------------------------------\u001b[0m",
      "\u001b[1;31mAssertionError\u001b[0m                            Traceback (most recent call last)",
      "Cell \u001b[1;32mIn[15], line 4\u001b[0m\n\u001b[0;32m      1\u001b[0m reference_voxel_as_o3d \u001b[38;5;241m=\u001b[39m o3d\u001b[38;5;241m.\u001b[39mio\u001b[38;5;241m.\u001b[39mread_point_cloud(reference_voxel)\n\u001b[0;32m      2\u001b[0m merged_voxel_as_o3d \u001b[38;5;241m=\u001b[39m o3d\u001b[38;5;241m.\u001b[39mio\u001b[38;5;241m.\u001b[39mread_point_cloud(merged_voxel)\n\u001b[1;32m----> 4\u001b[0m target_based_orientation_result \u001b[38;5;241m=\u001b[39m \u001b[43mtarget_based_orientation\u001b[49m\u001b[43m(\u001b[49m\u001b[43mreference_voxel_as_o3d\u001b[49m\u001b[43m,\u001b[49m\u001b[43m \u001b[49m\u001b[43mmerged_voxel_as_o3d\u001b[49m\u001b[43m)\u001b[49m\n",
      "Cell \u001b[1;32mIn[14], line 65\u001b[0m, in \u001b[0;36mtarget_based_orientation\u001b[1;34m(reference_cloud, oriented_cloud, typ, Debug)\u001b[0m\n\u001b[0;32m     62\u001b[0m \u001b[38;5;28;01melse\u001b[39;00m: \u001b[38;5;66;03m#Inna metoda\u001b[39;00m\n\u001b[0;32m     63\u001b[0m     \u001b[38;5;28mprint\u001b[39m(\u001b[38;5;124m'\u001b[39m\u001b[38;5;124mWyznaczenie parametrów na podstawie analizy deskryptorów\u001b[39m\u001b[38;5;124m'\u001b[39m)\n\u001b[1;32m---> 65\u001b[0m \u001b[38;5;28;01massert\u001b[39;00m (\u001b[38;5;28mlen\u001b[39m(pkt_ref) \u001b[38;5;241m>\u001b[39m\u001b[38;5;241m=\u001b[39m \u001b[38;5;241m3\u001b[39m \u001b[38;5;129;01mand\u001b[39;00m \u001b[38;5;28mlen\u001b[39m(pkt_ori) \u001b[38;5;241m>\u001b[39m\u001b[38;5;241m=\u001b[39m \u001b[38;5;241m3\u001b[39m)\n\u001b[0;32m     66\u001b[0m \u001b[38;5;28;01massert\u001b[39;00m (\u001b[38;5;28mlen\u001b[39m(pkt_ref) \u001b[38;5;241m==\u001b[39m \u001b[38;5;28mlen\u001b[39m(pkt_ori))\n\u001b[0;32m     68\u001b[0m corr \u001b[38;5;241m=\u001b[39m np\u001b[38;5;241m.\u001b[39mzeros((\u001b[38;5;28mlen\u001b[39m(pkt_ori), \u001b[38;5;241m2\u001b[39m))\n",
      "\u001b[1;31mAssertionError\u001b[0m: "
     ]
    }
   ],
   "source": [
    "reference_voxel_as_o3d = o3d.io.read_point_cloud(reference_voxel)\n",
    "merged_voxel_as_o3d = o3d.io.read_point_cloud(merged_voxel)\n",
    "\n",
    "target_based_orientation_result = target_based_orientation(reference_voxel_as_o3d, merged_voxel_as_o3d)"
   ]
  }
 ],
 "metadata": {
  "kernelspec": {
   "display_name": "base",
   "language": "python",
   "name": "python3"
  },
  "language_info": {
   "codemirror_mode": {
    "name": "ipython",
    "version": 3
   },
   "file_extension": ".py",
   "mimetype": "text/x-python",
   "name": "python",
   "nbconvert_exporter": "python",
   "pygments_lexer": "ipython3",
   "version": "3.11.7"
  }
 },
 "nbformat": 4,
 "nbformat_minor": 5
}
