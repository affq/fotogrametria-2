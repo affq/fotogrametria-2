{
 "cells": [
  {
   "cell_type": "code",
   "execution_count": 2,
   "id": "95d9fcd4",
   "metadata": {},
   "outputs": [
    {
     "name": "stdout",
     "output_type": "stream",
     "text": [
      "Jupyter environment detected. Enabling Open3D WebVisualizer.\n",
      "[Open3D INFO] WebRTC GUI backend enabled.\n",
      "[Open3D INFO] WebRTCWindowSystem: HTTP handshake server disabled.\n"
     ]
    }
   ],
   "source": [
    "import open3d as o3d\n",
    "import numpy as np\n",
    "import laspy"
   ]
  },
  {
   "cell_type": "code",
   "execution_count": 3,
   "id": "858752a9",
   "metadata": {},
   "outputs": [],
   "source": [
    "def las_to_o3d(plik) :\n",
    "    las_pcd = laspy.read(plik)\n",
    "    x = las_pcd.x\n",
    "    y = las_pcd.y\n",
    "    z = las_pcd.z\n",
    "\n",
    "    r = las_pcd.red / max(las_pcd.red)\n",
    "    g = las_pcd.green / max(las_pcd.green)\n",
    "    b = las_pcd.blue / max(las_pcd.blue)\n",
    "\n",
    "    las_points = np.vstack((x,y,z)).transpose()\n",
    "    las_colors = np.vstack((r,g,b)).transpose()\n",
    "\n",
    "    point_cloud = o3d.geometry.PointCloud()\n",
    "    point_cloud.points = o3d.utility.Vector3dVector(las_points)\n",
    "    point_cloud.colors = o3d.utility.Vector3dVector(las_colors)\n",
    "    return point_cloud\n",
    "\n",
    "def find_outliers(point_cloud, neighbours = 1000, std_ratio = 3.0):\n",
    "    filtered_point_cloud, ind = point_cloud.remove_statistical_outlier(nb_neighbors = neighbours, std_ratio = std_ratio)\n",
    "    outliers = point_cloud.select_by_index(ind, invert = True)\n",
    "    outliers.paint_uniform_color([1, 0, 0])\n",
    "    return filtered_point_cloud, outliers"
   ]
  },
  {
   "cell_type": "markdown",
   "id": "75c110aa",
   "metadata": {},
   "source": [
    "### cała chmura punktów"
   ]
  },
  {
   "cell_type": "code",
   "execution_count": null,
   "id": "0ec9318b",
   "metadata": {},
   "outputs": [],
   "source": [
    "file = 'merged.las'\n",
    "point_cloud = las_to_o3d(file)\n",
    "o3d.visualization.draw_geometries([point_cloud], window_name = \"Point cloud\")"
   ]
  },
  {
   "cell_type": "markdown",
   "id": "d4affc98",
   "metadata": {},
   "source": [
    "### chmura punktów z zaznaczonymi punktami odstającymi"
   ]
  },
  {
   "cell_type": "code",
   "execution_count": null,
   "id": "3cc6e5ac",
   "metadata": {},
   "outputs": [],
   "source": [
    "filtered_point_cloud, outliers = find_outliers(point_cloud)\n",
    "o3d.visualization.draw_geometries([filtered_point_cloud, outliers], window_name = \"Point cloud with outliers\")"
   ]
  },
  {
   "cell_type": "markdown",
   "id": "9cdf0295",
   "metadata": {},
   "source": [
    "### chmura punktów zdownsamplowana z użyciem voxel"
   ]
  },
  {
   "cell_type": "code",
   "execution_count": null,
   "id": "9d7611ad",
   "metadata": {},
   "outputs": [],
   "source": [
    "voxel_point_cloud = filtered_point_cloud.voxel_down_sample(voxel_size = 0.1)\n",
    "o3d.visualization.draw_geometries([voxel_point_cloud], window_name = \"Voxelled point cloud\")"
   ]
  },
  {
   "cell_type": "markdown",
   "id": "8ce75993",
   "metadata": {},
   "source": [
    "### chmura punktów zdownsamplowana z użyciem uniform"
   ]
  },
  {
   "cell_type": "code",
   "execution_count": null,
   "id": "15edaf62",
   "metadata": {},
   "outputs": [
    {
     "ename": "NameError",
     "evalue": "name 'point_cloud' is not defined",
     "output_type": "error",
     "traceback": [
      "\u001b[1;31m---------------------------------------------------------------------------\u001b[0m",
      "\u001b[1;31mNameError\u001b[0m                                 Traceback (most recent call last)",
      "Cell \u001b[1;32mIn[1], line 1\u001b[0m\n\u001b[1;32m----> 1\u001b[0m n_point_cloud \u001b[38;5;241m=\u001b[39m point_cloud\u001b[38;5;241m.\u001b[39muniform_down_sample(every_k_points \u001b[38;5;241m=\u001b[39m \u001b[38;5;241m10\u001b[39m)\n\u001b[0;32m      2\u001b[0m o3d\u001b[38;5;241m.\u001b[39mvisualization\u001b[38;5;241m.\u001b[39mdraw_geometries([n_point_cloud], window_name \u001b[38;5;241m=\u001b[39m \u001b[38;5;124m\"\u001b[39m\u001b[38;5;124mPoint cloud with every n point\u001b[39m\u001b[38;5;124m\"\u001b[39m)\n",
      "\u001b[1;31mNameError\u001b[0m: name 'point_cloud' is not defined"
     ]
    }
   ],
   "source": [
    "n_point_cloud = point_cloud.uniform_down_sample(every_k_points = 10)\n",
    "o3d.visualization.draw_geometries([n_point_cloud], window_name = \"Point cloud with every n point\")"
   ]
  }
 ],
 "metadata": {
  "kernelspec": {
   "display_name": "base",
   "language": "python",
   "name": "python3"
  },
  "language_info": {
   "codemirror_mode": {
    "name": "ipython",
    "version": 3
   },
   "file_extension": ".py",
   "mimetype": "text/x-python",
   "name": "python",
   "nbconvert_exporter": "python",
   "pygments_lexer": "ipython3",
   "version": "3.12.4"
  }
 },
 "nbformat": 4,
 "nbformat_minor": 5
}
